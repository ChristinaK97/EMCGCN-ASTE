{
 "cells": [
  {
   "cell_type": "markdown",
   "id": "a6993d36",
   "metadata": {},
   "source": [
    "A draft of the notebook which will be used for analyzing the eval metrics in regard to the different seeds"
   ]
  },
  {
   "cell_type": "code",
   "execution_count": 1,
   "id": "636395eb",
   "metadata": {},
   "outputs": [],
   "source": [
    "#!pip install numpy\n",
    "#!pip install pandas\n",
    "#!pip install seaborn\n",
    "#!pip install matplotlib"
   ]
  },
  {
   "cell_type": "code",
   "execution_count": 1,
   "id": "e9e20e9f",
   "metadata": {},
   "outputs": [],
   "source": [
    "import numpy as np\n",
    "import pandas as pd\n",
    "import seaborn as sns\n",
    "from matplotlib import pyplot as plt\n",
    "import json"
   ]
  },
  {
   "cell_type": "code",
   "execution_count": 2,
   "id": "64286fc9",
   "metadata": {},
   "outputs": [],
   "source": [
    "folder_path = 'code/reproducibility/results'\n",
    "file_name = '2023-01-08 17-33-36'\n",
    "results_json = f'{folder_path}/{file_name}.json'"
   ]
  },
  {
   "cell_type": "code",
   "execution_count": 3,
   "id": "ea8ef348",
   "metadata": {},
   "outputs": [],
   "source": [
    "with open(results_json) as file:\n",
    "    file_contents = file.read()\n",
    "\n",
    "results = json.loads(file_contents)"
   ]
  },
  {
   "cell_type": "markdown",
   "id": "692b44d1",
   "metadata": {},
   "source": [
    "What we have:\n",
    "\n",
    "* For each dataset:\n",
    "   * For each seed:\n",
    "       * Test mode F1, Precision, Recall\n",
    "\n",
    "TODO IDEAS:\n",
    "* Produce histplots with the distributions of the evaluation metrics for test set. N = # of seeds\n",
    "* Produce descriptive statistics (mean, median, etc)\n",
    "* Compare the values with the ones reported in the paper"
   ]
  },
  {
   "cell_type": "code",
   "execution_count": 5,
   "id": "2cdd1209",
   "metadata": {},
   "outputs": [
    {
     "name": "stdout",
     "output_type": "stream",
     "text": [
      "D2-res14\n",
      "    features  precision    recall        f1\n",
      "0        psc   0.693396  0.747711  0.719530\n",
      "1        rpd   0.692898  0.734486  0.713086\n",
      "2     All LF   0.696411  0.730417  0.713009\n",
      "3        dep   0.684866  0.727365  0.705476\n",
      "4  rpd + dep   0.682857  0.729400  0.705362\n",
      "5        tbd   0.662024  0.725331  0.692233\n",
      "6      w/ LF   0.661932  0.711089  0.685630\n",
      "D2-res16\n",
      "    features  precision    recall        f1\n",
      "0        tbd   0.659537  0.721248  0.689013\n",
      "1        dep   0.649215  0.725146  0.685083\n",
      "2  rpd + dep   0.651543  0.699805  0.674812\n",
      "3        rpd   0.649635  0.693957  0.671065\n",
      "4      w/ LF   0.639432  0.701754  0.669145\n",
      "5        psc   0.598039  0.713450  0.650667\n",
      "6     All LF   0.604377  0.699805  0.648600\n",
      "D2-res15\n",
      "    features  precision    recall        f1\n",
      "0      w/ LF   0.623762  0.649485  0.636364\n",
      "1  rpd + dep   0.634454  0.622680  0.628512\n",
      "2        dep   0.622407  0.618557  0.620476\n",
      "3     All LF   0.604743  0.630928  0.617558\n",
      "4        tbd   0.619543  0.614433  0.616977\n",
      "5        psc   0.610101  0.622680  0.616327\n",
      "6        rpd   0.568384  0.659794  0.610687\n",
      "D2-lap14\n",
      "    features  precision    recall        f1\n",
      "0        rpd   0.595547  0.593346  0.594444\n",
      "1     All LF   0.606654  0.573013  0.589354\n",
      "2        dep   0.591760  0.584104  0.587907\n",
      "3      w/ LF   0.624738  0.550832  0.585462\n",
      "4        psc   0.559859  0.587800  0.573490\n",
      "5        tbd   0.642202  0.517560  0.573183\n",
      "6  rpd + dep   0.592885  0.554529  0.573066\n",
      "rpd & 59.44 & 71.31 & 61.07 & 67.11 & \\\\\n",
      "psc & 57.35 & 71.95 & 61.63 & 65.07 & \\\\\n",
      "tbd & 57.32 & 69.22 & 61.7 & 68.9 & \\\\\n",
      "rpd + dep & 57.31 & 70.54 & 62.85 & 67.48 & \\\\\n",
      "All LF & 58.94 & 71.3 & 61.76 & 64.86 & \\\\\n",
      "dep & 58.79 & 70.55 & 62.05 & 68.51 & \\\\\n",
      "w/ LF & 58.55 & 68.56 & 63.64 & 66.91 & \\\\\n"
     ]
    }
   ],
   "source": [
    "rows = [{\n",
    "        'features' : str(results[i]['setup']['model_param']['use_features']),\n",
    "        'dataset': results[i]['setup']['dataset'],\n",
    "        'precision': results[i]['results']['test_set']['precision'],\n",
    "        'recall': results[i]['results']['test_set']['recall'],\n",
    "        'f1': results[i]['results']['test_set']['f1']\n",
    "} for i in range(len(results))]\n",
    "\n",
    "df = pd.DataFrame(rows)\n",
    "df.drop_duplicates(inplace=True)\n",
    "\n",
    "labels = {\"['post']\":'rpd', \"['postag']\":'psc', \"['synpost']\":'tbd', \"['post', 'deprel']\":\"rpd + dep\",\n",
    "           \"['post', 'deprel', 'postag', 'synpost']\":'All LF', \"['deprel']\":'dep', '[]':'w/ LF'}\n",
    "\n",
    "df['features'] = df['features'].apply(lambda x : labels[x])\n",
    "\n",
    "\n",
    "df.sort_values(by=['f1'], inplace=True, ascending=False)\n",
    "datasets =  df['dataset'].unique()\n",
    "df_per_dataset = {dataset : df[df['dataset'] == dataset].drop(columns='dataset').reset_index(drop=True)\n",
    "                  for dataset in datasets}\n",
    "\n",
    "for dataset, df in df_per_dataset.items(): print(f'{dataset}\\n{df}')\n",
    "\n",
    "for feature in labels.values():\n",
    "    print(feature, '&', end=' ')\n",
    "    for dataset in sorted(df_per_dataset.keys()):\n",
    "        df = df_per_dataset[dataset]\n",
    "        print(round(float(df[df['features'] == feature]['f1'])* 100, 2) , '&', end=' ')\n",
    "    print('\\\\\\\\')\n",
    "    "
   ]
  }
 ],
 "metadata": {
  "kernelspec": {
   "display_name": "Python 3 (ipykernel)",
   "language": "python",
   "name": "python3"
  },
  "language_info": {
   "codemirror_mode": {
    "name": "ipython",
    "version": 3
   },
   "file_extension": ".py",
   "mimetype": "text/x-python",
   "name": "python",
   "nbconvert_exporter": "python",
   "pygments_lexer": "ipython3",
   "version": "3.9.13"
  }
 },
 "nbformat": 4,
 "nbformat_minor": 5
}
