{
 "cells": [
  {
   "cell_type": "markdown",
   "id": "a6993d36",
   "metadata": {},
   "source": [
    "A draft of the notebook which will be used for analyzing the eval metrics in regard to the different seeds"
   ]
  },
  {
   "cell_type": "code",
   "execution_count": 1,
   "id": "636395eb",
   "metadata": {},
   "outputs": [],
   "source": [
    "#!pip install numpy\n",
    "#!pip install pandas\n",
    "#!pip install seaborn\n",
    "#!pip install matplotlib"
   ]
  },
  {
   "cell_type": "code",
   "execution_count": 2,
   "id": "e9e20e9f",
   "metadata": {},
   "outputs": [],
   "source": [
    "import numpy as np\n",
    "import pandas as pd\n",
    "import seaborn as sns\n",
    "from matplotlib import pyplot as plt\n",
    "import json"
   ]
  },
  {
   "cell_type": "code",
   "execution_count": 3,
   "id": "64286fc9",
   "metadata": {},
   "outputs": [],
   "source": [
    "results_json = '<ADD_PATH>'"
   ]
  },
  {
   "cell_type": "code",
   "execution_count": 4,
   "id": "ea8ef348",
   "metadata": {},
   "outputs": [],
   "source": [
    "with open(results_json) as file:\n",
    "    file_contents = file.read()\n",
    "\n",
    "results = json.loads(file_contents)"
   ]
  },
  {
   "cell_type": "markdown",
   "id": "692b44d1",
   "metadata": {},
   "source": [
    "What we have:\n",
    "\n",
    "* For each dataset:\n",
    "   * For each seed:\n",
    "       * Test mode F1, Precision, Recall\n",
    "\n",
    "TODO IDEAS:\n",
    "* Produce histplots with the distributions of the evaluation metrics for test set. N = # of seeds\n",
    "* Produce descriptive statistics (mean, median, etc)\n",
    "* Compare the values with the ones reported in the paper"
   ]
  },
  {
   "cell_type": "code",
   "execution_count": 9,
   "id": "5d721a29",
   "metadata": {},
   "outputs": [],
   "source": [
    "df = pd.DataFrame(columns = ['dataset', 'f1', 'precision', 'recall'])"
   ]
  },
  {
   "cell_type": "code",
   "execution_count": 11,
   "id": "2cdd1209",
   "metadata": {},
   "outputs": [],
   "source": [
    "for i in range(len(results)):\n",
    "    row = {\n",
    "        'dataset': results[i]['setup']['dataset'],\n",
    "        'f1': results[i]['results']['test_set']['f1'],\n",
    "        'precision': results[i]['results']['test_set']['precision'],\n",
    "        'recall': results[i]['results']['test_set']['recall']\n",
    "    }\n",
    "    df = df.append(row, ignore_index = True)"
   ]
  },
  {
   "cell_type": "code",
   "execution_count": 17,
   "id": "f26c0e3d",
   "metadata": {},
   "outputs": [
    {
     "data": {
      "text/html": [
       "<div>\n",
       "<style scoped>\n",
       "    .dataframe tbody tr th:only-of-type {\n",
       "        vertical-align: middle;\n",
       "    }\n",
       "\n",
       "    .dataframe tbody tr th {\n",
       "        vertical-align: top;\n",
       "    }\n",
       "\n",
       "    .dataframe thead th {\n",
       "        text-align: right;\n",
       "    }\n",
       "</style>\n",
       "<table border=\"1\" class=\"dataframe\">\n",
       "  <thead>\n",
       "    <tr style=\"text-align: right;\">\n",
       "      <th></th>\n",
       "      <th>dataset</th>\n",
       "      <th>f1</th>\n",
       "      <th>precision</th>\n",
       "      <th>recall</th>\n",
       "    </tr>\n",
       "  </thead>\n",
       "  <tbody>\n",
       "    <tr>\n",
       "      <th>0</th>\n",
       "      <td>D1-res15</td>\n",
       "      <td>0.578641</td>\n",
       "      <td>0.554935</td>\n",
       "      <td>0.604462</td>\n",
       "    </tr>\n",
       "    <tr>\n",
       "      <th>1</th>\n",
       "      <td>D1-res14</td>\n",
       "      <td>0.735632</td>\n",
       "      <td>0.732338</td>\n",
       "      <td>0.738956</td>\n",
       "    </tr>\n",
       "    <tr>\n",
       "      <th>2</th>\n",
       "      <td>D1-lap14</td>\n",
       "      <td>0.565714</td>\n",
       "      <td>0.588119</td>\n",
       "      <td>0.544954</td>\n",
       "    </tr>\n",
       "    <tr>\n",
       "      <th>3</th>\n",
       "      <td>D1-res15</td>\n",
       "      <td>0.569926</td>\n",
       "      <td>0.591703</td>\n",
       "      <td>0.549696</td>\n",
       "    </tr>\n",
       "    <tr>\n",
       "      <th>4</th>\n",
       "      <td>D1-res16</td>\n",
       "      <td>0.683426</td>\n",
       "      <td>0.666062</td>\n",
       "      <td>0.701721</td>\n",
       "    </tr>\n",
       "    <tr>\n",
       "      <th>5</th>\n",
       "      <td>D1-res16</td>\n",
       "      <td>0.632214</td>\n",
       "      <td>0.575235</td>\n",
       "      <td>0.701721</td>\n",
       "    </tr>\n",
       "    <tr>\n",
       "      <th>6</th>\n",
       "      <td>D1-res15</td>\n",
       "      <td>0.603363</td>\n",
       "      <td>0.588803</td>\n",
       "      <td>0.618661</td>\n",
       "    </tr>\n",
       "    <tr>\n",
       "      <th>7</th>\n",
       "      <td>D1-res14</td>\n",
       "      <td>0.712068</td>\n",
       "      <td>0.710290</td>\n",
       "      <td>0.713855</td>\n",
       "    </tr>\n",
       "    <tr>\n",
       "      <th>8</th>\n",
       "      <td>D1-lap14</td>\n",
       "      <td>0.562977</td>\n",
       "      <td>0.586481</td>\n",
       "      <td>0.541284</td>\n",
       "    </tr>\n",
       "    <tr>\n",
       "      <th>9</th>\n",
       "      <td>D1-res15</td>\n",
       "      <td>0.602261</td>\n",
       "      <td>0.610417</td>\n",
       "      <td>0.594320</td>\n",
       "    </tr>\n",
       "  </tbody>\n",
       "</table>\n",
       "</div>"
      ],
      "text/plain": [
       "    dataset        f1  precision    recall\n",
       "0  D1-res15  0.578641   0.554935  0.604462\n",
       "1  D1-res14  0.735632   0.732338  0.738956\n",
       "2  D1-lap14  0.565714   0.588119  0.544954\n",
       "3  D1-res15  0.569926   0.591703  0.549696\n",
       "4  D1-res16  0.683426   0.666062  0.701721\n",
       "5  D1-res16  0.632214   0.575235  0.701721\n",
       "6  D1-res15  0.603363   0.588803  0.618661\n",
       "7  D1-res14  0.712068   0.710290  0.713855\n",
       "8  D1-lap14  0.562977   0.586481  0.541284\n",
       "9  D1-res15  0.602261   0.610417  0.594320"
      ]
     },
     "execution_count": 17,
     "metadata": {},
     "output_type": "execute_result"
    }
   ],
   "source": [
    "df.head(10)"
   ]
  },
  {
   "cell_type": "code",
   "execution_count": 22,
   "id": "4d58e60f",
   "metadata": {},
   "outputs": [],
   "source": [
    "d1_res14 = df[df['dataset'] == 'D1-res14'].drop(columns='dataset')\n",
    "d1_res15 = df[df['dataset'] == 'D1-res15'].drop(columns='dataset')\n",
    "d1_res16 = df[df['dataset'] == 'D1-res16'].drop(columns='dataset')\n",
    "d1_lap14 = df[df['dataset'] == 'D1-lap14'].drop(columns='dataset')"
   ]
  },
  {
   "cell_type": "code",
   "execution_count": 27,
   "id": "82e424f2",
   "metadata": {},
   "outputs": [
    {
     "data": {
      "text/html": [
       "<div>\n",
       "<style scoped>\n",
       "    .dataframe tbody tr th:only-of-type {\n",
       "        vertical-align: middle;\n",
       "    }\n",
       "\n",
       "    .dataframe tbody tr th {\n",
       "        vertical-align: top;\n",
       "    }\n",
       "\n",
       "    .dataframe thead th {\n",
       "        text-align: right;\n",
       "    }\n",
       "</style>\n",
       "<table border=\"1\" class=\"dataframe\">\n",
       "  <thead>\n",
       "    <tr style=\"text-align: right;\">\n",
       "      <th></th>\n",
       "      <th>f1</th>\n",
       "      <th>precision</th>\n",
       "      <th>recall</th>\n",
       "    </tr>\n",
       "  </thead>\n",
       "  <tbody>\n",
       "    <tr>\n",
       "      <th>count</th>\n",
       "      <td>12.000000</td>\n",
       "      <td>12.000000</td>\n",
       "      <td>12.000000</td>\n",
       "    </tr>\n",
       "    <tr>\n",
       "      <th>mean</th>\n",
       "      <td>0.716360</td>\n",
       "      <td>0.710092</td>\n",
       "      <td>0.723059</td>\n",
       "    </tr>\n",
       "    <tr>\n",
       "      <th>std</th>\n",
       "      <td>0.012055</td>\n",
       "      <td>0.019194</td>\n",
       "      <td>0.012634</td>\n",
       "    </tr>\n",
       "    <tr>\n",
       "      <th>min</th>\n",
       "      <td>0.694779</td>\n",
       "      <td>0.677064</td>\n",
       "      <td>0.694779</td>\n",
       "    </tr>\n",
       "    <tr>\n",
       "      <th>25%</th>\n",
       "      <td>0.710909</td>\n",
       "      <td>0.697470</td>\n",
       "      <td>0.716867</td>\n",
       "    </tr>\n",
       "    <tr>\n",
       "      <th>50%</th>\n",
       "      <td>0.712472</td>\n",
       "      <td>0.706670</td>\n",
       "      <td>0.724900</td>\n",
       "    </tr>\n",
       "    <tr>\n",
       "      <th>75%</th>\n",
       "      <td>0.724497</td>\n",
       "      <td>0.724376</td>\n",
       "      <td>0.730422</td>\n",
       "    </tr>\n",
       "    <tr>\n",
       "      <th>max</th>\n",
       "      <td>0.735632</td>\n",
       "      <td>0.742564</td>\n",
       "      <td>0.740964</td>\n",
       "    </tr>\n",
       "  </tbody>\n",
       "</table>\n",
       "</div>"
      ],
      "text/plain": [
       "              f1  precision     recall\n",
       "count  12.000000  12.000000  12.000000\n",
       "mean    0.716360   0.710092   0.723059\n",
       "std     0.012055   0.019194   0.012634\n",
       "min     0.694779   0.677064   0.694779\n",
       "25%     0.710909   0.697470   0.716867\n",
       "50%     0.712472   0.706670   0.724900\n",
       "75%     0.724497   0.724376   0.730422\n",
       "max     0.735632   0.742564   0.740964"
      ]
     },
     "execution_count": 27,
     "metadata": {},
     "output_type": "execute_result"
    }
   ],
   "source": [
    "d1_res14.describe()"
   ]
  }
 ],
 "metadata": {
  "kernelspec": {
   "display_name": "Python 3 (ipykernel)",
   "language": "python",
   "name": "python3"
  },
  "language_info": {
   "codemirror_mode": {
    "name": "ipython",
    "version": 3
   },
   "file_extension": ".py",
   "mimetype": "text/x-python",
   "name": "python",
   "nbconvert_exporter": "python",
   "pygments_lexer": "ipython3",
   "version": "3.7.8"
  }
 },
 "nbformat": 4,
 "nbformat_minor": 5
}
